{
 "cells": [
  {
   "cell_type": "code",
   "execution_count": 5,
   "id": "48efa17f",
   "metadata": {},
   "outputs": [],
   "source": [
    "import pandas as pd"
   ]
  },
  {
   "cell_type": "code",
   "execution_count": 6,
   "id": "8a0e0d2b",
   "metadata": {},
   "outputs": [],
   "source": [
    "df_large = pd.read_csv('pairs.csv')"
   ]
  },
  {
   "cell_type": "code",
   "execution_count": 3,
   "id": "563f2715",
   "metadata": {},
   "outputs": [
    {
     "name": "stdout",
     "output_type": "stream",
     "text": [
      "<class 'pandas.core.frame.DataFrame'>\n",
      "RangeIndex: 498292 entries, 0 to 498291\n",
      "Columns: 305 entries, user to Friendship\n",
      "dtypes: float64(302), int64(2), object(1)\n",
      "memory usage: 1.1+ GB\n"
     ]
    }
   ],
   "source": [
    "df_large.info()"
   ]
  },
  {
   "cell_type": "code",
   "execution_count": 4,
   "id": "fbdc0046",
   "metadata": {},
   "outputs": [],
   "source": [
    "\n",
    "from imblearn.over_sampling import RandomOverSampler\n",
    "from imblearn.under_sampling import RandomUnderSampler\n",
    "from collections import Counter"
   ]
  },
  {
   "cell_type": "code",
   "execution_count": 34,
   "id": "cb8f4442",
   "metadata": {},
   "outputs": [],
   "source": [
    "oversample = RandomOverSampler(sampling_strategy=0.3)"
   ]
  },
  {
   "cell_type": "code",
   "execution_count": 7,
   "id": "282a6e1a",
   "metadata": {},
   "outputs": [],
   "source": [
    "y = df_large.iloc[:,2].values\n",
    "X = df_large.iloc[:,154:305].values\n"
   ]
  },
  {
   "cell_type": "code",
   "execution_count": 26,
   "id": "3cb5188d",
   "metadata": {},
   "outputs": [
    {
     "name": "stdout",
     "output_type": "stream",
     "text": [
      "(707743, 151)\n"
     ]
    }
   ],
   "source": [
    "X_over, y_over = oversample.fit_resample(X, y)\n",
    "print(X_over.shape)"
   ]
  },
  {
   "cell_type": "code",
   "execution_count": 27,
   "id": "c37ff887",
   "metadata": {},
   "outputs": [
    {
     "name": "stdout",
     "output_type": "stream",
     "text": [
      "(498292, 151)\n"
     ]
    }
   ],
   "source": [
    "print(X.shape)"
   ]
  },
  {
   "cell_type": "code",
   "execution_count": 25,
   "id": "34a5c641",
   "metadata": {
    "scrolled": true
   },
   "outputs": [],
   "source": [
    "import os\n",
    "import sys\n",
    "import pandas as pd\n",
    "import numpy as np\n",
    "import csv\n",
    "from sklearn.metrics import accuracy_score\n",
    "from sklearn.model_selection import train_test_split\n",
    "from sklearn import metrics\n",
    "from sklearn.linear_model import LogisticRegression\n",
    "from sklearn.model_selection import KFold\n",
    "from sklearn.model_selection import StratifiedKFold\n",
    "from sklearn.neighbors import KNeighborsClassifier\n",
    "from sklearn.neural_network import MLPClassifier\n",
    "from sklearn.model_selection import cross_val_score\n",
    "from sklearn.metrics import confusion_matrix\n",
    "from sklearn.dummy import DummyClassifier\n",
    "from sklearn.metrics import roc_curve\n",
    "import matplotlib.pyplot as plt\n",
    "from sklearn.model_selection import GridSearchCV\n",
    "from sklearn.tree import DecisionTreeClassifier\n",
    "import seaborn as sns"
   ]
  },
  {
   "cell_type": "code",
   "execution_count": 29,
   "id": "543623fe",
   "metadata": {},
   "outputs": [],
   "source": [
    "def logreg_analysis(model, X, y):\n",
    "    kf = StratifiedKFold(n_splits=5)\n",
    "    #maybe add interaction terms\n",
    "    temp = []\n",
    "    for train, test in kf.split(X, y):\n",
    "        model.fit(X[train], y[train])\n",
    "        y_pred = model.predict(X[test])\n",
    "        temp.append(metrics.precision_score(y[test], y_pred, zero_division=0))\n",
    "    return temp\n"
   ]
  },
  {
   "cell_type": "code",
   "execution_count": 30,
   "id": "3c6bf9d9",
   "metadata": {},
   "outputs": [],
   "source": [
    "def logreg_plot(X,y):\n",
    "    C_set = [0.01, 0.1, 0.5, 1, 10, 100]\n",
    "    fig, ax = plt.subplots()\n",
    "    fig.suptitle('Precision of Logistic Regression Models')\n",
    "    mean_score = []\n",
    "    std_score = []\n",
    "    for C in C_set:\n",
    "        model_ridge = LogisticRegression(penalty = 'l2', solver = 'lbfgs', C=C, max_iter = 10000)\n",
    "        score = logreg_analysis(model_ridge, X, y)\n",
    "        mean_score.append(np.array(score).mean())\n",
    "        std_score.append(np.array(score).std())\n",
    "\n",
    "    ax.errorbar(C_set, mean_score, yerr = std_score, linewidth = 2, color='hotpink', label = 'Ridge')\n",
    "    model_logit = LogisticRegression(penalty = 'none', solver = 'lbfgs', max_iter = 10000)\n",
    "    score = logreg_analysis(model_logit, X, y)\n",
    "    ax.axhline(y = np.array(score).mean(), color = 'green', linestyle='-', label = 'Logit')\n",
    "    ax.set_ylabel('Precision Score')\n",
    "    ax.set_xlabel('C')\n",
    "    ax.legend()"
   ]
  },
  {
   "cell_type": "code",
   "execution_count": 31,
   "id": "f270f12c",
   "metadata": {},
   "outputs": [],
   "source": [
    "def KNNcrossval(X, y):\n",
    "    kf = StratifiedKFold(n_splits=5)\n",
    "    plt.rc('font', size=18); plt.rcParams['figure.constrained_layout.use'] = True\n",
    "    mean_acc=[]; std_acc=[]\n",
    "    k_range = range(2,21,2)\n",
    "    fig, ax = plt.subplots()\n",
    "    for k in k_range:\n",
    "        knn = KNeighborsClassifier(n_neighbors=k)\n",
    "        temp=[]\n",
    "        for train,test in kf.split(X, y):\n",
    "            print(X[train])\n",
    "            knn.fit(X[train], y[train])\n",
    "            ypred = knn.predict(X[test])\n",
    "            temp.append(metrics.precision_score(y[test],ypred))\n",
    "        mean_acc.append(np.array(temp).mean())\n",
    "        std_acc.append(np.array(temp).std())\n",
    "    ax.errorbar(k_range, mean_acc, yerr=std_acc, color='hotpink', linewidth = 2, label = 'kNN')\n",
    "    ax.set_xlabel('#Neighbours (k)')\n",
    "    ax.set_ylabel('Precision')\n"
   ]
  },
  {
   "cell_type": "code",
   "execution_count": 32,
   "id": "f914448b",
   "metadata": {
    "scrolled": true
   },
   "outputs": [
    {
     "data": {
      "image/png": "[encoded data removed]",
      "text/plain": [
       "<Figure size 432x288 with 1 Axes>"
      ]
     },
     "metadata": {
      "needs_background": "light"
     },
     "output_type": "display_data"
    }
   ],
   "source": [
    "logreg_plot(X_over,y_over)"
   ]
  },
  {
   "cell_type": "code",
   "execution_count": 33,
   "id": "f490f312",
   "metadata": {},
   "outputs": [
    {
     "name": "stdout",
     "output_type": "stream",
     "text": [
      "[[0.01975349 0.         1.         ... 0.         0.         0.        ]\n",
      " [0.01737584 0.         1.         ... 0.         0.         0.        ]\n",
      " [0.01872634 0.         1.         ... 0.         0.         0.        ]\n",
      " ...\n",
      " [0.02865539 0.         1.         ... 0.         0.         0.        ]\n",
      " [0.00679056 1.         1.         ... 0.         0.         0.        ]\n",
      " [0.05335438 0.         1.         ... 0.         0.         0.        ]]\n"
     ]
    },
    {
     "name": "stderr",
     "output_type": "stream",
     "text": [
      "C:\\Users\\catat\\anaconda3\\lib\\site-packages\\sklearn\\metrics\\_classification.py:1334: UndefinedMetricWarning: Precision is ill-defined and being set to 0.0 due to no predicted samples. Use `zero_division` parameter to control this behavior.\n",
      "  _warn_prf(average, modifier, msg_start, len(result))\n"
     ]
    },
    {
     "name": "stdout",
     "output_type": "stream",
     "text": [
      "[[0.01351454 1.         1.         ... 0.         0.         0.        ]\n",
      " [0.00985297 1.         1.         ... 0.         0.         0.        ]\n",
      " [0.03625435 0.         1.         ... 0.         0.         0.        ]\n",
      " ...\n",
      " [0.02865539 0.         1.         ... 0.         0.         0.        ]\n",
      " [0.00679056 1.         1.         ... 0.         0.         0.        ]\n",
      " [0.05335438 0.         1.         ... 0.         0.         0.        ]]\n",
      "[[0.01351454 1.         1.         ... 0.         0.         0.        ]\n",
      " [0.00985297 1.         1.         ... 0.         0.         0.        ]\n",
      " [0.03625435 0.         1.         ... 0.         0.         0.        ]\n",
      " ...\n",
      " [0.02865539 0.         1.         ... 0.         0.         0.        ]\n",
      " [0.00679056 1.         1.         ... 0.         0.         0.        ]\n",
      " [0.05335438 0.         1.         ... 0.         0.         0.        ]]\n",
      "[[0.01351454 1.         1.         ... 0.         0.         0.        ]\n",
      " [0.00985297 1.         1.         ... 0.         0.         0.        ]\n",
      " [0.03625435 0.         1.         ... 0.         0.         0.        ]\n",
      " ...\n",
      " [0.02865539 0.         1.         ... 0.         0.         0.        ]\n",
      " [0.00679056 1.         1.         ... 0.         0.         0.        ]\n",
      " [0.05335438 0.         1.         ... 0.         0.         0.        ]]\n",
      "[[0.01351454 1.         1.         ... 0.         0.         0.        ]\n",
      " [0.00985297 1.         1.         ... 0.         0.         0.        ]\n",
      " [0.03625435 0.         1.         ... 0.         0.         0.        ]\n",
      " ...\n",
      " [0.00475529 1.         1.         ... 0.         0.         0.        ]\n",
      " [0.1174272  0.         1.         ... 0.         0.         0.        ]\n",
      " [0.0153596  0.         1.         ... 0.         0.         0.        ]]\n",
      "[[0.01975349 0.         1.         ... 0.         0.         0.        ]\n",
      " [0.01737584 0.         1.         ... 0.         0.         0.        ]\n",
      " [0.01872634 0.         1.         ... 0.         0.         0.        ]\n",
      " ...\n",
      " [0.02865539 0.         1.         ... 0.         0.         0.        ]\n",
      " [0.00679056 1.         1.         ... 0.         0.         0.        ]\n",
      " [0.05335438 0.         1.         ... 0.         0.         0.        ]]\n"
     ]
    },
    {
     "name": "stderr",
     "output_type": "stream",
     "text": [
      "C:\\Users\\catat\\anaconda3\\lib\\site-packages\\sklearn\\metrics\\_classification.py:1334: UndefinedMetricWarning: Precision is ill-defined and being set to 0.0 due to no predicted samples. Use `zero_division` parameter to control this behavior.\n",
      "  _warn_prf(average, modifier, msg_start, len(result))\n"
     ]
    },
    {
     "name": "stdout",
     "output_type": "stream",
     "text": [
      "[[0.01351454 1.         1.         ... 0.         0.         0.        ]\n",
      " [0.00985297 1.         1.         ... 0.         0.         0.        ]\n",
      " [0.03625435 0.         1.         ... 0.         0.         0.        ]\n",
      " ...\n",
      " [0.02865539 0.         1.         ... 0.         0.         0.        ]\n",
      " [0.00679056 1.         1.         ... 0.         0.         0.        ]\n",
      " [0.05335438 0.         1.         ... 0.         0.         0.        ]]\n",
      "[[0.01351454 1.         1.         ... 0.         0.         0.        ]\n",
      " [0.00985297 1.         1.         ... 0.         0.         0.        ]\n",
      " [0.03625435 0.         1.         ... 0.         0.         0.        ]\n",
      " ...\n",
      " [0.02865539 0.         1.         ... 0.         0.         0.        ]\n",
      " [0.00679056 1.         1.         ... 0.         0.         0.        ]\n",
      " [0.05335438 0.         1.         ... 0.         0.         0.        ]]\n",
      "[[0.01351454 1.         1.         ... 0.         0.         0.        ]\n",
      " [0.00985297 1.         1.         ... 0.         0.         0.        ]\n",
      " [0.03625435 0.         1.         ... 0.         0.         0.        ]\n",
      " ...\n",
      " [0.02865539 0.         1.         ... 0.         0.         0.        ]\n",
      " [0.00679056 1.         1.         ... 0.         0.         0.        ]\n",
      " [0.05335438 0.         1.         ... 0.         0.         0.        ]]\n",
      "[[0.01351454 1.         1.         ... 0.         0.         0.        ]\n",
      " [0.00985297 1.         1.         ... 0.         0.         0.        ]\n",
      " [0.03625435 0.         1.         ... 0.         0.         0.        ]\n",
      " ...\n",
      " [0.00475529 1.         1.         ... 0.         0.         0.        ]\n",
      " [0.1174272  0.         1.         ... 0.         0.         0.        ]\n",
      " [0.0153596  0.         1.         ... 0.         0.         0.        ]]\n",
      "[[0.01975349 0.         1.         ... 0.         0.         0.        ]\n",
      " [0.01737584 0.         1.         ... 0.         0.         0.        ]\n",
      " [0.01872634 0.         1.         ... 0.         0.         0.        ]\n",
      " ...\n",
      " [0.02865539 0.         1.         ... 0.         0.         0.        ]\n",
      " [0.00679056 1.         1.         ... 0.         0.         0.        ]\n",
      " [0.05335438 0.         1.         ... 0.         0.         0.        ]]\n"
     ]
    },
    {
     "name": "stderr",
     "output_type": "stream",
     "text": [
      "C:\\Users\\catat\\anaconda3\\lib\\site-packages\\sklearn\\metrics\\_classification.py:1334: UndefinedMetricWarning: Precision is ill-defined and being set to 0.0 due to no predicted samples. Use `zero_division` parameter to control this behavior.\n",
      "  _warn_prf(average, modifier, msg_start, len(result))\n"
     ]
    },
    {
     "name": "stdout",
     "output_type": "stream",
     "text": [
      "[[0.01351454 1.         1.         ... 0.         0.         0.        ]\n",
      " [0.00985297 1.         1.         ... 0.         0.         0.        ]\n",
      " [0.03625435 0.         1.         ... 0.         0.         0.        ]\n",
      " ...\n",
      " [0.02865539 0.         1.         ... 0.         0.         0.        ]\n",
      " [0.00679056 1.         1.         ... 0.         0.         0.        ]\n",
      " [0.05335438 0.         1.         ... 0.         0.         0.        ]]\n",
      "[[0.01351454 1.         1.         ... 0.         0.         0.        ]\n",
      " [0.00985297 1.         1.         ... 0.         0.         0.        ]\n",
      " [0.03625435 0.         1.         ... 0.         0.         0.        ]\n",
      " ...\n",
      " [0.02865539 0.         1.         ... 0.         0.         0.        ]\n",
      " [0.00679056 1.         1.         ... 0.         0.         0.        ]\n",
      " [0.05335438 0.         1.         ... 0.         0.         0.        ]]\n",
      "[[0.01351454 1.         1.         ... 0.         0.         0.        ]\n",
      " [0.00985297 1.         1.         ... 0.         0.         0.        ]\n",
      " [0.03625435 0.         1.         ... 0.         0.         0.        ]\n",
      " ...\n",
      " [0.02865539 0.         1.         ... 0.         0.         0.        ]\n",
      " [0.00679056 1.         1.         ... 0.         0.         0.        ]\n",
      " [0.05335438 0.         1.         ... 0.         0.         0.        ]]\n",
      "[[0.01351454 1.         1.         ... 0.         0.         0.        ]\n",
      " [0.00985297 1.         1.         ... 0.         0.         0.        ]\n",
      " [0.03625435 0.         1.         ... 0.         0.         0.        ]\n",
      " ...\n",
      " [0.00475529 1.         1.         ... 0.         0.         0.        ]\n",
      " [0.1174272  0.         1.         ... 0.         0.         0.        ]\n",
      " [0.0153596  0.         1.         ... 0.         0.         0.        ]]\n",
      "[[0.01975349 0.         1.         ... 0.         0.         0.        ]\n",
      " [0.01737584 0.         1.         ... 0.         0.         0.        ]\n",
      " [0.01872634 0.         1.         ... 0.         0.         0.        ]\n",
      " ...\n",
      " [0.02865539 0.         1.         ... 0.         0.         0.        ]\n",
      " [0.00679056 1.         1.         ... 0.         0.         0.        ]\n",
      " [0.05335438 0.         1.         ... 0.         0.         0.        ]]\n"
     ]
    },
    {
     "name": "stderr",
     "output_type": "stream",
     "text": [
      "C:\\Users\\catat\\anaconda3\\lib\\site-packages\\sklearn\\metrics\\_classification.py:1334: UndefinedMetricWarning: Precision is ill-defined and being set to 0.0 due to no predicted samples. Use `zero_division` parameter to control this behavior.\n",
      "  _warn_prf(average, modifier, msg_start, len(result))\n"
     ]
    },
    {
     "name": "stdout",
     "output_type": "stream",
     "text": [
      "[[0.01351454 1.         1.         ... 0.         0.         0.        ]\n",
      " [0.00985297 1.         1.         ... 0.         0.         0.        ]\n",
      " [0.03625435 0.         1.         ... 0.         0.         0.        ]\n",
      " ...\n",
      " [0.02865539 0.         1.         ... 0.         0.         0.        ]\n",
      " [0.00679056 1.         1.         ... 0.         0.         0.        ]\n",
      " [0.05335438 0.         1.         ... 0.         0.         0.        ]]\n",
      "[[0.01351454 1.         1.         ... 0.         0.         0.        ]\n",
      " [0.00985297 1.         1.         ... 0.         0.         0.        ]\n",
      " [0.03625435 0.         1.         ... 0.         0.         0.        ]\n",
      " ...\n",
      " [0.02865539 0.         1.         ... 0.         0.         0.        ]\n",
      " [0.00679056 1.         1.         ... 0.         0.         0.        ]\n",
      " [0.05335438 0.         1.         ... 0.         0.         0.        ]]\n",
      "[[0.01351454 1.         1.         ... 0.         0.         0.        ]\n",
      " [0.00985297 1.         1.         ... 0.         0.         0.        ]\n",
      " [0.03625435 0.         1.         ... 0.         0.         0.        ]\n",
      " ...\n",
      " [0.02865539 0.         1.         ... 0.         0.         0.        ]\n",
      " [0.00679056 1.         1.         ... 0.         0.         0.        ]\n",
      " [0.05335438 0.         1.         ... 0.         0.         0.        ]]\n",
      "[[0.01351454 1.         1.         ... 0.         0.         0.        ]\n",
      " [0.00985297 1.         1.         ... 0.         0.         0.        ]\n",
      " [0.03625435 0.         1.         ... 0.         0.         0.        ]\n",
      " ...\n",
      " [0.00475529 1.         1.         ... 0.         0.         0.        ]\n",
      " [0.1174272  0.         1.         ... 0.         0.         0.        ]\n",
      " [0.0153596  0.         1.         ... 0.         0.         0.        ]]\n",
      "[[0.01975349 0.         1.         ... 0.         0.         0.        ]\n",
      " [0.01737584 0.         1.         ... 0.         0.         0.        ]\n",
      " [0.01872634 0.         1.         ... 0.         0.         0.        ]\n",
      " ...\n",
      " [0.02865539 0.         1.         ... 0.         0.         0.        ]\n",
      " [0.00679056 1.         1.         ... 0.         0.         0.        ]\n",
      " [0.05335438 0.         1.         ... 0.         0.         0.        ]]\n"
     ]
    },
    {
     "name": "stderr",
     "output_type": "stream",
     "text": [
      "C:\\Users\\catat\\anaconda3\\lib\\site-packages\\sklearn\\metrics\\_classification.py:1334: UndefinedMetricWarning: Precision is ill-defined and being set to 0.0 due to no predicted samples. Use `zero_division` parameter to control this behavior.\n",
      "  _warn_prf(average, modifier, msg_start, len(result))\n"
     ]
    },
    {
     "name": "stdout",
     "output_type": "stream",
     "text": [
      "[[0.01351454 1.         1.         ... 0.         0.         0.        ]\n",
      " [0.00985297 1.         1.         ... 0.         0.         0.        ]\n",
      " [0.03625435 0.         1.         ... 0.         0.         0.        ]\n",
      " ...\n",
      " [0.02865539 0.         1.         ... 0.         0.         0.        ]\n",
      " [0.00679056 1.         1.         ... 0.         0.         0.        ]\n",
      " [0.05335438 0.         1.         ... 0.         0.         0.        ]]\n"
     ]
    },
    {
     "name": "stderr",
     "output_type": "stream",
     "text": [
      "C:\\Users\\catat\\anaconda3\\lib\\site-packages\\sklearn\\metrics\\_classification.py:1334: UndefinedMetricWarning: Precision is ill-defined and being set to 0.0 due to no predicted samples. Use `zero_division` parameter to control this behavior.\n",
      "  _warn_prf(average, modifier, msg_start, len(result))\n"
     ]
    },
    {
     "name": "stdout",
     "output_type": "stream",
     "text": [
      "[[0.01351454 1.         1.         ... 0.         0.         0.        ]\n",
      " [0.00985297 1.         1.         ... 0.         0.         0.        ]\n",
      " [0.03625435 0.         1.         ... 0.         0.         0.        ]\n",
      " ...\n",
      " [0.02865539 0.         1.         ... 0.         0.         0.        ]\n",
      " [0.00679056 1.         1.         ... 0.         0.         0.        ]\n",
      " [0.05335438 0.         1.         ... 0.         0.         0.        ]]\n"
     ]
    },
    {
     "name": "stderr",
     "output_type": "stream",
     "text": [
      "C:\\Users\\catat\\anaconda3\\lib\\site-packages\\sklearn\\metrics\\_classification.py:1334: UndefinedMetricWarning: Precision is ill-defined and being set to 0.0 due to no predicted samples. Use `zero_division` parameter to control this behavior.\n",
      "  _warn_prf(average, modifier, msg_start, len(result))\n"
     ]
    },
    {
     "name": "stdout",
     "output_type": "stream",
     "text": [
      "[[0.01351454 1.         1.         ... 0.         0.         0.        ]\n",
      " [0.00985297 1.         1.         ... 0.         0.         0.        ]\n",
      " [0.03625435 0.         1.         ... 0.         0.         0.        ]\n",
      " ...\n",
      " [0.02865539 0.         1.         ... 0.         0.         0.        ]\n",
      " [0.00679056 1.         1.         ... 0.         0.         0.        ]\n",
      " [0.05335438 0.         1.         ... 0.         0.         0.        ]]\n"
     ]
    },
    {
     "name": "stderr",
     "output_type": "stream",
     "text": [
      "C:\\Users\\catat\\anaconda3\\lib\\site-packages\\sklearn\\metrics\\_classification.py:1334: UndefinedMetricWarning: Precision is ill-defined and being set to 0.0 due to no predicted samples. Use `zero_division` parameter to control this behavior.\n",
      "  _warn_prf(average, modifier, msg_start, len(result))\n"
     ]
    },
    {
     "name": "stdout",
     "output_type": "stream",
     "text": [
      "[[0.01351454 1.         1.         ... 0.         0.         0.        ]\n",
      " [0.00985297 1.         1.         ... 0.         0.         0.        ]\n",
      " [0.03625435 0.         1.         ... 0.         0.         0.        ]\n",
      " ...\n",
      " [0.00475529 1.         1.         ... 0.         0.         0.        ]\n",
      " [0.1174272  0.         1.         ... 0.         0.         0.        ]\n",
      " [0.0153596  0.         1.         ... 0.         0.         0.        ]]\n"
     ]
    },
    {
     "name": "stderr",
     "output_type": "stream",
     "text": [
      "C:\\Users\\catat\\anaconda3\\lib\\site-packages\\sklearn\\metrics\\_classification.py:1334: UndefinedMetricWarning: Precision is ill-defined and being set to 0.0 due to no predicted samples. Use `zero_division` parameter to control this behavior.\n",
      "  _warn_prf(average, modifier, msg_start, len(result))\n"
     ]
    },
    {
     "name": "stdout",
     "output_type": "stream",
     "text": [
      "[[0.01975349 0.         1.         ... 0.         0.         0.        ]\n",
      " [0.01737584 0.         1.         ... 0.         0.         0.        ]\n",
      " [0.01872634 0.         1.         ... 0.         0.         0.        ]\n",
      " ...\n",
      " [0.02865539 0.         1.         ... 0.         0.         0.        ]\n",
      " [0.00679056 1.         1.         ... 0.         0.         0.        ]\n",
      " [0.05335438 0.         1.         ... 0.         0.         0.        ]]\n"
     ]
    },
    {
     "name": "stderr",
     "output_type": "stream",
     "text": [
      "C:\\Users\\catat\\anaconda3\\lib\\site-packages\\sklearn\\metrics\\_classification.py:1334: UndefinedMetricWarning: Precision is ill-defined and being set to 0.0 due to no predicted samples. Use `zero_division` parameter to control this behavior.\n",
      "  _warn_prf(average, modifier, msg_start, len(result))\n"
     ]
    },
    {
     "name": "stdout",
     "output_type": "stream",
     "text": [
      "[[0.01351454 1.         1.         ... 0.         0.         0.        ]\n",
      " [0.00985297 1.         1.         ... 0.         0.         0.        ]\n",
      " [0.03625435 0.         1.         ... 0.         0.         0.        ]\n",
      " ...\n",
      " [0.02865539 0.         1.         ... 0.         0.         0.        ]\n",
      " [0.00679056 1.         1.         ... 0.         0.         0.        ]\n",
      " [0.05335438 0.         1.         ... 0.         0.         0.        ]]\n"
     ]
    },
    {
     "name": "stderr",
     "output_type": "stream",
     "text": [
      "C:\\Users\\catat\\anaconda3\\lib\\site-packages\\sklearn\\metrics\\_classification.py:1334: UndefinedMetricWarning: Precision is ill-defined and being set to 0.0 due to no predicted samples. Use `zero_division` parameter to control this behavior.\n",
      "  _warn_prf(average, modifier, msg_start, len(result))\n"
     ]
    },
    {
     "name": "stdout",
     "output_type": "stream",
     "text": [
      "[[0.01351454 1.         1.         ... 0.         0.         0.        ]\n",
      " [0.00985297 1.         1.         ... 0.         0.         0.        ]\n",
      " [0.03625435 0.         1.         ... 0.         0.         0.        ]\n",
      " ...\n",
      " [0.02865539 0.         1.         ... 0.         0.         0.        ]\n",
      " [0.00679056 1.         1.         ... 0.         0.         0.        ]\n",
      " [0.05335438 0.         1.         ... 0.         0.         0.        ]]\n"
     ]
    },
    {
     "name": "stderr",
     "output_type": "stream",
     "text": [
      "C:\\Users\\catat\\anaconda3\\lib\\site-packages\\sklearn\\metrics\\_classification.py:1334: UndefinedMetricWarning: Precision is ill-defined and being set to 0.0 due to no predicted samples. Use `zero_division` parameter to control this behavior.\n",
      "  _warn_prf(average, modifier, msg_start, len(result))\n"
     ]
    },
    {
     "name": "stdout",
     "output_type": "stream",
     "text": [
      "[[0.01351454 1.         1.         ... 0.         0.         0.        ]\n",
      " [0.00985297 1.         1.         ... 0.         0.         0.        ]\n",
      " [0.03625435 0.         1.         ... 0.         0.         0.        ]\n",
      " ...\n",
      " [0.02865539 0.         1.         ... 0.         0.         0.        ]\n",
      " [0.00679056 1.         1.         ... 0.         0.         0.        ]\n",
      " [0.05335438 0.         1.         ... 0.         0.         0.        ]]\n"
     ]
    },
    {
     "name": "stderr",
     "output_type": "stream",
     "text": [
      "C:\\Users\\catat\\anaconda3\\lib\\site-packages\\sklearn\\metrics\\_classification.py:1334: UndefinedMetricWarning: Precision is ill-defined and being set to 0.0 due to no predicted samples. Use `zero_division` parameter to control this behavior.\n",
      "  _warn_prf(average, modifier, msg_start, len(result))\n"
     ]
    },
    {
     "name": "stdout",
     "output_type": "stream",
     "text": [
      "[[0.01351454 1.         1.         ... 0.         0.         0.        ]\n",
      " [0.00985297 1.         1.         ... 0.         0.         0.        ]\n",
      " [0.03625435 0.         1.         ... 0.         0.         0.        ]\n",
      " ...\n",
      " [0.00475529 1.         1.         ... 0.         0.         0.        ]\n",
      " [0.1174272  0.         1.         ... 0.         0.         0.        ]\n",
      " [0.0153596  0.         1.         ... 0.         0.         0.        ]]\n"
     ]
    },
    {
     "name": "stderr",
     "output_type": "stream",
     "text": [
      "C:\\Users\\catat\\anaconda3\\lib\\site-packages\\sklearn\\metrics\\_classification.py:1334: UndefinedMetricWarning: Precision is ill-defined and being set to 0.0 due to no predicted samples. Use `zero_division` parameter to control this behavior.\n",
      "  _warn_prf(average, modifier, msg_start, len(result))\n"
     ]
    },
    {
     "name": "stdout",
     "output_type": "stream",
     "text": [
      "[[0.01975349 0.         1.         ... 0.         0.         0.        ]\n",
      " [0.01737584 0.         1.         ... 0.         0.         0.        ]\n",
      " [0.01872634 0.         1.         ... 0.         0.         0.        ]\n",
      " ...\n",
      " [0.02865539 0.         1.         ... 0.         0.         0.        ]\n",
      " [0.00679056 1.         1.         ... 0.         0.         0.        ]\n",
      " [0.05335438 0.         1.         ... 0.         0.         0.        ]]\n"
     ]
    },
    {
     "name": "stderr",
     "output_type": "stream",
     "text": [
      "C:\\Users\\catat\\anaconda3\\lib\\site-packages\\sklearn\\metrics\\_classification.py:1334: UndefinedMetricWarning: Precision is ill-defined and being set to 0.0 due to no predicted samples. Use `zero_division` parameter to control this behavior.\n",
      "  _warn_prf(average, modifier, msg_start, len(result))\n"
     ]
    },
    {
     "name": "stdout",
     "output_type": "stream",
     "text": [
      "[[0.01351454 1.         1.         ... 0.         0.         0.        ]\n",
      " [0.00985297 1.         1.         ... 0.         0.         0.        ]\n",
      " [0.03625435 0.         1.         ... 0.         0.         0.        ]\n",
      " ...\n",
      " [0.02865539 0.         1.         ... 0.         0.         0.        ]\n",
      " [0.00679056 1.         1.         ... 0.         0.         0.        ]\n",
      " [0.05335438 0.         1.         ... 0.         0.         0.        ]]\n"
     ]
    },
    {
     "name": "stderr",
     "output_type": "stream",
     "text": [
      "C:\\Users\\catat\\anaconda3\\lib\\site-packages\\sklearn\\metrics\\_classification.py:1334: UndefinedMetricWarning: Precision is ill-defined and being set to 0.0 due to no predicted samples. Use `zero_division` parameter to control this behavior.\n",
      "  _warn_prf(average, modifier, msg_start, len(result))\n"
     ]
    },
    {
     "name": "stdout",
     "output_type": "stream",
     "text": [
      "[[0.01351454 1.         1.         ... 0.         0.         0.        ]\n",
      " [0.00985297 1.         1.         ... 0.         0.         0.        ]\n",
      " [0.03625435 0.         1.         ... 0.         0.         0.        ]\n",
      " ...\n",
      " [0.02865539 0.         1.         ... 0.         0.         0.        ]\n",
      " [0.00679056 1.         1.         ... 0.         0.         0.        ]\n",
      " [0.05335438 0.         1.         ... 0.         0.         0.        ]]\n"
     ]
    },
    {
     "name": "stderr",
     "output_type": "stream",
     "text": [
      "C:\\Users\\catat\\anaconda3\\lib\\site-packages\\sklearn\\metrics\\_classification.py:1334: UndefinedMetricWarning: Precision is ill-defined and being set to 0.0 due to no predicted samples. Use `zero_division` parameter to control this behavior.\n",
      "  _warn_prf(average, modifier, msg_start, len(result))\n"
     ]
    },
    {
     "name": "stdout",
     "output_type": "stream",
     "text": [
      "[[0.01351454 1.         1.         ... 0.         0.         0.        ]\n",
      " [0.00985297 1.         1.         ... 0.         0.         0.        ]\n",
      " [0.03625435 0.         1.         ... 0.         0.         0.        ]\n",
      " ...\n",
      " [0.02865539 0.         1.         ... 0.         0.         0.        ]\n",
      " [0.00679056 1.         1.         ... 0.         0.         0.        ]\n",
      " [0.05335438 0.         1.         ... 0.         0.         0.        ]]\n"
     ]
    },
    {
     "name": "stderr",
     "output_type": "stream",
     "text": [
      "C:\\Users\\catat\\anaconda3\\lib\\site-packages\\sklearn\\metrics\\_classification.py:1334: UndefinedMetricWarning: Precision is ill-defined and being set to 0.0 due to no predicted samples. Use `zero_division` parameter to control this behavior.\n",
      "  _warn_prf(average, modifier, msg_start, len(result))\n"
     ]
    },
    {
     "name": "stdout",
     "output_type": "stream",
     "text": [
      "[[0.01351454 1.         1.         ... 0.         0.         0.        ]\n",
      " [0.00985297 1.         1.         ... 0.         0.         0.        ]\n",
      " [0.03625435 0.         1.         ... 0.         0.         0.        ]\n",
      " ...\n",
      " [0.00475529 1.         1.         ... 0.         0.         0.        ]\n",
      " [0.1174272  0.         1.         ... 0.         0.         0.        ]\n",
      " [0.0153596  0.         1.         ... 0.         0.         0.        ]]\n"
     ]
    },
    {
     "name": "stderr",
     "output_type": "stream",
     "text": [
      "C:\\Users\\catat\\anaconda3\\lib\\site-packages\\sklearn\\metrics\\_classification.py:1334: UndefinedMetricWarning: Precision is ill-defined and being set to 0.0 due to no predicted samples. Use `zero_division` parameter to control this behavior.\n",
      "  _warn_prf(average, modifier, msg_start, len(result))\n"
     ]
    },
    {
     "name": "stdout",
     "output_type": "stream",
     "text": [
      "[[0.01975349 0.         1.         ... 0.         0.         0.        ]\n",
      " [0.01737584 0.         1.         ... 0.         0.         0.        ]\n",
      " [0.01872634 0.         1.         ... 0.         0.         0.        ]\n",
      " ...\n",
      " [0.02865539 0.         1.         ... 0.         0.         0.        ]\n",
      " [0.00679056 1.         1.         ... 0.         0.         0.        ]\n",
      " [0.05335438 0.         1.         ... 0.         0.         0.        ]]\n"
     ]
    },
    {
     "name": "stderr",
     "output_type": "stream",
     "text": [
      "C:\\Users\\catat\\anaconda3\\lib\\site-packages\\sklearn\\metrics\\_classification.py:1334: UndefinedMetricWarning: Precision is ill-defined and being set to 0.0 due to no predicted samples. Use `zero_division` parameter to control this behavior.\n",
      "  _warn_prf(average, modifier, msg_start, len(result))\n"
     ]
    },
    {
     "name": "stdout",
     "output_type": "stream",
     "text": [
      "[[0.01351454 1.         1.         ... 0.         0.         0.        ]\n",
      " [0.00985297 1.         1.         ... 0.         0.         0.        ]\n",
      " [0.03625435 0.         1.         ... 0.         0.         0.        ]\n",
      " ...\n",
      " [0.02865539 0.         1.         ... 0.         0.         0.        ]\n",
      " [0.00679056 1.         1.         ... 0.         0.         0.        ]\n",
      " [0.05335438 0.         1.         ... 0.         0.         0.        ]]\n"
     ]
    },
    {
     "name": "stderr",
     "output_type": "stream",
     "text": [
      "C:\\Users\\catat\\anaconda3\\lib\\site-packages\\sklearn\\metrics\\_classification.py:1334: UndefinedMetricWarning: Precision is ill-defined and being set to 0.0 due to no predicted samples. Use `zero_division` parameter to control this behavior.\n",
      "  _warn_prf(average, modifier, msg_start, len(result))\n"
     ]
    },
    {
     "name": "stdout",
     "output_type": "stream",
     "text": [
      "[[0.01351454 1.         1.         ... 0.         0.         0.        ]\n",
      " [0.00985297 1.         1.         ... 0.         0.         0.        ]\n",
      " [0.03625435 0.         1.         ... 0.         0.         0.        ]\n",
      " ...\n",
      " [0.02865539 0.         1.         ... 0.         0.         0.        ]\n",
      " [0.00679056 1.         1.         ... 0.         0.         0.        ]\n",
      " [0.05335438 0.         1.         ... 0.         0.         0.        ]]\n"
     ]
    },
    {
     "name": "stderr",
     "output_type": "stream",
     "text": [
      "C:\\Users\\catat\\anaconda3\\lib\\site-packages\\sklearn\\metrics\\_classification.py:1334: UndefinedMetricWarning: Precision is ill-defined and being set to 0.0 due to no predicted samples. Use `zero_division` parameter to control this behavior.\n",
      "  _warn_prf(average, modifier, msg_start, len(result))\n"
     ]
    },
    {
     "name": "stdout",
     "output_type": "stream",
     "text": [
      "[[0.01351454 1.         1.         ... 0.         0.         0.        ]\n",
      " [0.00985297 1.         1.         ... 0.         0.         0.        ]\n",
      " [0.03625435 0.         1.         ... 0.         0.         0.        ]\n",
      " ...\n",
      " [0.02865539 0.         1.         ... 0.         0.         0.        ]\n",
      " [0.00679056 1.         1.         ... 0.         0.         0.        ]\n",
      " [0.05335438 0.         1.         ... 0.         0.         0.        ]]\n"
     ]
    },
    {
     "name": "stderr",
     "output_type": "stream",
     "text": [
      "C:\\Users\\catat\\anaconda3\\lib\\site-packages\\sklearn\\metrics\\_classification.py:1334: UndefinedMetricWarning: Precision is ill-defined and being set to 0.0 due to no predicted samples. Use `zero_division` parameter to control this behavior.\n",
      "  _warn_prf(average, modifier, msg_start, len(result))\n"
     ]
    },
    {
     "name": "stdout",
     "output_type": "stream",
     "text": [
      "[[0.01351454 1.         1.         ... 0.         0.         0.        ]\n",
      " [0.00985297 1.         1.         ... 0.         0.         0.        ]\n",
      " [0.03625435 0.         1.         ... 0.         0.         0.        ]\n",
      " ...\n",
      " [0.00475529 1.         1.         ... 0.         0.         0.        ]\n",
      " [0.1174272  0.         1.         ... 0.         0.         0.        ]\n",
      " [0.0153596  0.         1.         ... 0.         0.         0.        ]]\n"
     ]
    },
    {
     "name": "stderr",
     "output_type": "stream",
     "text": [
      "C:\\Users\\catat\\anaconda3\\lib\\site-packages\\sklearn\\metrics\\_classification.py:1334: UndefinedMetricWarning: Precision is ill-defined and being set to 0.0 due to no predicted samples. Use `zero_division` parameter to control this behavior.\n",
      "  _warn_prf(average, modifier, msg_start, len(result))\n"
     ]
    },
    {
     "name": "stdout",
     "output_type": "stream",
     "text": [
      "[[0.01975349 0.         1.         ... 0.         0.         0.        ]\n",
      " [0.01737584 0.         1.         ... 0.         0.         0.        ]\n",
      " [0.01872634 0.         1.         ... 0.         0.         0.        ]\n",
      " ...\n",
      " [0.02865539 0.         1.         ... 0.         0.         0.        ]\n",
      " [0.00679056 1.         1.         ... 0.         0.         0.        ]\n",
      " [0.05335438 0.         1.         ... 0.         0.         0.        ]]\n"
     ]
    },
    {
     "name": "stderr",
     "output_type": "stream",
     "text": [
      "C:\\Users\\catat\\anaconda3\\lib\\site-packages\\sklearn\\metrics\\_classification.py:1334: UndefinedMetricWarning: Precision is ill-defined and being set to 0.0 due to no predicted samples. Use `zero_division` parameter to control this behavior.\n",
      "  _warn_prf(average, modifier, msg_start, len(result))\n"
     ]
    },
    {
     "name": "stdout",
     "output_type": "stream",
     "text": [
      "[[0.01351454 1.         1.         ... 0.         0.         0.        ]\n",
      " [0.00985297 1.         1.         ... 0.         0.         0.        ]\n",
      " [0.03625435 0.         1.         ... 0.         0.         0.        ]\n",
      " ...\n",
      " [0.02865539 0.         1.         ... 0.         0.         0.        ]\n",
      " [0.00679056 1.         1.         ... 0.         0.         0.        ]\n",
      " [0.05335438 0.         1.         ... 0.         0.         0.        ]]\n"
     ]
    },
    {
     "name": "stderr",
     "output_type": "stream",
     "text": [
      "C:\\Users\\catat\\anaconda3\\lib\\site-packages\\sklearn\\metrics\\_classification.py:1334: UndefinedMetricWarning: Precision is ill-defined and being set to 0.0 due to no predicted samples. Use `zero_division` parameter to control this behavior.\n",
      "  _warn_prf(average, modifier, msg_start, len(result))\n"
     ]
    },
    {
     "name": "stdout",
     "output_type": "stream",
     "text": [
      "[[0.01351454 1.         1.         ... 0.         0.         0.        ]\n",
      " [0.00985297 1.         1.         ... 0.         0.         0.        ]\n",
      " [0.03625435 0.         1.         ... 0.         0.         0.        ]\n",
      " ...\n",
      " [0.02865539 0.         1.         ... 0.         0.         0.        ]\n",
      " [0.00679056 1.         1.         ... 0.         0.         0.        ]\n",
      " [0.05335438 0.         1.         ... 0.         0.         0.        ]]\n"
     ]
    },
    {
     "name": "stderr",
     "output_type": "stream",
     "text": [
      "C:\\Users\\catat\\anaconda3\\lib\\site-packages\\sklearn\\metrics\\_classification.py:1334: UndefinedMetricWarning: Precision is ill-defined and being set to 0.0 due to no predicted samples. Use `zero_division` parameter to control this behavior.\n",
      "  _warn_prf(average, modifier, msg_start, len(result))\n"
     ]
    },
    {
     "name": "stdout",
     "output_type": "stream",
     "text": [
      "[[0.01351454 1.         1.         ... 0.         0.         0.        ]\n",
      " [0.00985297 1.         1.         ... 0.         0.         0.        ]\n",
      " [0.03625435 0.         1.         ... 0.         0.         0.        ]\n",
      " ...\n",
      " [0.02865539 0.         1.         ... 0.         0.         0.        ]\n",
      " [0.00679056 1.         1.         ... 0.         0.         0.        ]\n",
      " [0.05335438 0.         1.         ... 0.         0.         0.        ]]\n"
     ]
    },
    {
     "name": "stderr",
     "output_type": "stream",
     "text": [
      "C:\\Users\\catat\\anaconda3\\lib\\site-packages\\sklearn\\metrics\\_classification.py:1334: UndefinedMetricWarning: Precision is ill-defined and being set to 0.0 due to no predicted samples. Use `zero_division` parameter to control this behavior.\n",
      "  _warn_prf(average, modifier, msg_start, len(result))\n"
     ]
    },
    {
     "name": "stdout",
     "output_type": "stream",
     "text": [
      "[[0.01351454 1.         1.         ... 0.         0.         0.        ]\n",
      " [0.00985297 1.         1.         ... 0.         0.         0.        ]\n",
      " [0.03625435 0.         1.         ... 0.         0.         0.        ]\n",
      " ...\n",
      " [0.00475529 1.         1.         ... 0.         0.         0.        ]\n",
      " [0.1174272  0.         1.         ... 0.         0.         0.        ]\n",
      " [0.0153596  0.         1.         ... 0.         0.         0.        ]]\n"
     ]
    },
    {
     "name": "stderr",
     "output_type": "stream",
     "text": [
      "C:\\Users\\catat\\anaconda3\\lib\\site-packages\\sklearn\\metrics\\_classification.py:1334: UndefinedMetricWarning: Precision is ill-defined and being set to 0.0 due to no predicted samples. Use `zero_division` parameter to control this behavior.\n",
      "  _warn_prf(average, modifier, msg_start, len(result))\n"
     ]
    },
    {
     "name": "stdout",
     "output_type": "stream",
     "text": [
      "[[0.01975349 0.         1.         ... 0.         0.         0.        ]\n",
      " [0.01737584 0.         1.         ... 0.         0.         0.        ]\n",
      " [0.01872634 0.         1.         ... 0.         0.         0.        ]\n",
      " ...\n",
      " [0.02865539 0.         1.         ... 0.         0.         0.        ]\n",
      " [0.00679056 1.         1.         ... 0.         0.         0.        ]\n",
      " [0.05335438 0.         1.         ... 0.         0.         0.        ]]\n"
     ]
    },
    {
     "name": "stderr",
     "output_type": "stream",
     "text": [
      "C:\\Users\\catat\\anaconda3\\lib\\site-packages\\sklearn\\metrics\\_classification.py:1334: UndefinedMetricWarning: Precision is ill-defined and being set to 0.0 due to no predicted samples. Use `zero_division` parameter to control this behavior.\n",
      "  _warn_prf(average, modifier, msg_start, len(result))\n"
     ]
    },
    {
     "name": "stdout",
     "output_type": "stream",
     "text": [
      "[[0.01351454 1.         1.         ... 0.         0.         0.        ]\n",
      " [0.00985297 1.         1.         ... 0.         0.         0.        ]\n",
      " [0.03625435 0.         1.         ... 0.         0.         0.        ]\n",
      " ...\n",
      " [0.02865539 0.         1.         ... 0.         0.         0.        ]\n",
      " [0.00679056 1.         1.         ... 0.         0.         0.        ]\n",
      " [0.05335438 0.         1.         ... 0.         0.         0.        ]]\n"
     ]
    },
    {
     "name": "stderr",
     "output_type": "stream",
     "text": [
      "C:\\Users\\catat\\anaconda3\\lib\\site-packages\\sklearn\\metrics\\_classification.py:1334: UndefinedMetricWarning: Precision is ill-defined and being set to 0.0 due to no predicted samples. Use `zero_division` parameter to control this behavior.\n",
      "  _warn_prf(average, modifier, msg_start, len(result))\n"
     ]
    },
    {
     "name": "stdout",
     "output_type": "stream",
     "text": [
      "[[0.01351454 1.         1.         ... 0.         0.         0.        ]\n",
      " [0.00985297 1.         1.         ... 0.         0.         0.        ]\n",
      " [0.03625435 0.         1.         ... 0.         0.         0.        ]\n",
      " ...\n",
      " [0.02865539 0.         1.         ... 0.         0.         0.        ]\n",
      " [0.00679056 1.         1.         ... 0.         0.         0.        ]\n",
      " [0.05335438 0.         1.         ... 0.         0.         0.        ]]\n"
     ]
    },
    {
     "name": "stderr",
     "output_type": "stream",
     "text": [
      "C:\\Users\\catat\\anaconda3\\lib\\site-packages\\sklearn\\metrics\\_classification.py:1334: UndefinedMetricWarning: Precision is ill-defined and being set to 0.0 due to no predicted samples. Use `zero_division` parameter to control this behavior.\n",
      "  _warn_prf(average, modifier, msg_start, len(result))\n"
     ]
    },
    {
     "name": "stdout",
     "output_type": "stream",
     "text": [
      "[[0.01351454 1.         1.         ... 0.         0.         0.        ]\n",
      " [0.00985297 1.         1.         ... 0.         0.         0.        ]\n",
      " [0.03625435 0.         1.         ... 0.         0.         0.        ]\n",
      " ...\n",
      " [0.02865539 0.         1.         ... 0.         0.         0.        ]\n",
      " [0.00679056 1.         1.         ... 0.         0.         0.        ]\n",
      " [0.05335438 0.         1.         ... 0.         0.         0.        ]]\n"
     ]
    },
    {
     "name": "stderr",
     "output_type": "stream",
     "text": [
      "C:\\Users\\catat\\anaconda3\\lib\\site-packages\\sklearn\\metrics\\_classification.py:1334: UndefinedMetricWarning: Precision is ill-defined and being set to 0.0 due to no predicted samples. Use `zero_division` parameter to control this behavior.\n",
      "  _warn_prf(average, modifier, msg_start, len(result))\n"
     ]
    },
    {
     "name": "stdout",
     "output_type": "stream",
     "text": [
      "[[0.01351454 1.         1.         ... 0.         0.         0.        ]\n",
      " [0.00985297 1.         1.         ... 0.         0.         0.        ]\n",
      " [0.03625435 0.         1.         ... 0.         0.         0.        ]\n",
      " ...\n",
      " [0.00475529 1.         1.         ... 0.         0.         0.        ]\n",
      " [0.1174272  0.         1.         ... 0.         0.         0.        ]\n",
      " [0.0153596  0.         1.         ... 0.         0.         0.        ]]\n"
     ]
    },
    {
     "name": "stderr",
     "output_type": "stream",
     "text": [
      "C:\\Users\\catat\\anaconda3\\lib\\site-packages\\sklearn\\metrics\\_classification.py:1334: UndefinedMetricWarning: Precision is ill-defined and being set to 0.0 due to no predicted samples. Use `zero_division` parameter to control this behavior.\n",
      "  _warn_prf(average, modifier, msg_start, len(result))\n"
     ]
    },
    {
     "data": {
      "image/png": "[encoded data removed]",
      "text/plain": [
       "<Figure size 432x288 with 1 Axes>"
      ]
     },
     "metadata": {
      "needs_background": "light"
     },
     "output_type": "display_data"
    }
   ],
   "source": [
    "KNNcrossval(X_over,y_over)"
   ]
  },
  {
   "cell_type": "markdown",
   "id": "b802c2a7",
   "metadata": {},
   "source": [
    "## Random  Forest\n"
   ]
  },
  {
   "cell_type": "code",
   "execution_count": 8,
   "id": "9d708272",
   "metadata": {},
   "outputs": [],
   "source": [
    "undersampler = RandomUnderSampler(sampling_strategy='majority')"
   ]
  },
  {
   "cell_type": "code",
   "execution_count": 14,
   "id": "aad0bdc2",
   "metadata": {},
   "outputs": [
    {
     "name": "stdout",
     "output_type": "stream",
     "text": [
      "[[    0 26463]\n",
      " [    1 26463]]\n"
     ]
    }
   ],
   "source": [
    "X_under, y_under = undersampler.fit_resample(X, y)\n",
    "unique, counts = np.unique(y_under, return_counts=True)\n",
    "print(np.asarray((unique, counts)).T)"
   ]
  },
  {
   "cell_type": "code",
   "execution_count": 15,
   "id": "4507e023",
   "metadata": {},
   "outputs": [],
   "source": [
    "def randomForest(X, y):\n",
    "    X_train, X_test, y_train, y_test = train_test_split(X, y, test_size=0.2, random_state=42)\n",
    "    params = {'max_leaf_nodes': list(range(2, 100)), 'min_samples_split': [2, 3, 4]}\n",
    "    grid_search_cv = GridSearchCV(DecisionTreeClassifier(random_state=42), params, verbose=1, cv=3)\n",
    " \n",
    "    grid_search_cv.fit(X_train, y_train)\n",
    "    y_pred = grid_search_cv.predict(X_test)\n",
    "    acc = accuracy_score( y_test, y_pred)\n",
    "    best_estimator = grid_search_cv.best_estimator_\n",
    "    acc_estimator = []\n",
    "    acc_estimator.append(acc)\n",
    "    acc_estimator.append(best_estimator)\n",
    "    return acc_estimator    \n",
    " "
   ]
  },
  {
   "cell_type": "code",
   "execution_count": 19,
   "id": "cb779961",
   "metadata": {},
   "outputs": [
    {
     "name": "stdout",
     "output_type": "stream",
     "text": [
      "Fitting 3 folds for each of 294 candidates, totalling 882 fits\n"
     ]
    }
   ],
   "source": [
    "forest_result = randomForest(X_under, y_under)"
   ]
  },
  {
   "cell_type": "code",
   "execution_count": 23,
   "id": "db59f00f",
   "metadata": {},
   "outputs": [
    {
     "data": {
      "text/plain": [
       "[0.5410920083128661,\n",
       " DecisionTreeClassifier(max_leaf_nodes=99, random_state=42)]"
      ]
     },
     "execution_count": 23,
     "metadata": {},
     "output_type": "execute_result"
    }
   ],
   "source": [
    "forest_result\n"
   ]
  },
  {
   "cell_type": "markdown",
   "id": "1c3fbcc9",
   "metadata": {},
   "source": [
    "## Confusion Matrix"
   ]
  },
  {
   "cell_type": "code",
   "execution_count": 29,
   "id": "38039d65",
   "metadata": {},
   "outputs": [],
   "source": [
    "df_cm = [[115472, 2485],\n",
    "         [6228, 388]]"
   ]
  },
  {
   "cell_type": "code",
   "execution_count": 32,
   "id": "a18165f0",
   "metadata": {},
   "outputs": [
    {
     "data": {
      "text/plain": [
       "Text(0.5, 15.0, 'Predicted label')"
      ]
     },
     "execution_count": 32,
     "metadata": {},
     "output_type": "execute_result"
    },
    {
     "data": {
      "image/png": "[encoded data removed]",
      "text/plain": [
       "<Figure size 432x288 with 1 Axes>"
      ]
     },
     "metadata": {
      "needs_background": "light"
     },
     "output_type": "display_data"
    }
   ],
   "source": [
    "heatmap = sns.heatmap(df_cm, \n",
    "                       annot=True, \n",
    "                       fmt=\"d\", \n",
    "                       cbar=False, \n",
    "                       cmap=\"YlGnBu\")\n",
    "\n",
    "plt.title('Test Confusion Matrix')\n",
    "plt.ylabel('Correct label')\n",
    "plt.xlabel('Predicted label')"
   ]
  },
  {
   "cell_type": "code",
   "execution_count": 33,
   "id": "b745795f",
   "metadata": {},
   "outputs": [],
   "source": [
    "df_cm = [[59364, 35002],\n",
    "         [4001, 1291]]"
   ]
  },
  {
   "cell_type": "code",
   "execution_count": 34,
   "id": "36901eec",
   "metadata": {},
   "outputs": [
    {
     "data": {
      "text/plain": [
       "Text(0.5, 15.0, 'Predicted label')"
      ]
     },
     "execution_count": 34,
     "metadata": {},
     "output_type": "execute_result"
    },
    {
     "data": {
      "image/png": "[encoded data removed]",
      "text/plain": [
       "<Figure size 432x288 with 1 Axes>"
      ]
     },
     "metadata": {
      "needs_background": "light"
     },
     "output_type": "display_data"
    }
   ],
   "source": [
    "heatmap = sns.heatmap(df_cm, \n",
    "                       annot=True, \n",
    "                       fmt=\"d\", \n",
    "                       cbar=False, \n",
    "                       cmap=\"YlGnBu\")\n",
    "\n",
    "plt.title('Test Confusion Matrix')\n",
    "plt.ylabel('Correct label')\n",
    "plt.xlabel('Predicted label')"
   ]
  },
  {
   "cell_type": "code",
   "execution_count": null,
   "id": "f7fcb290",
   "metadata": {},
   "outputs": [],
   "source": []
  }
 ],
 "metadata": {
  "kernelspec": {
   "display_name": "Python 3 (ipykernel)",
   "language": "python",
   "name": "python3"
  },
  "language_info": {
   "codemirror_mode": {
    "name": "ipython",
    "version": 3
   },
   "file_extension": ".py",
   "mimetype": "text/x-python",
   "name": "python",
   "nbconvert_exporter": "python",
   "pygments_lexer": "ipython3",
   "version": "3.9.12"
  }
 },
 "nbformat": 4,
 "nbformat_minor": 5
}
